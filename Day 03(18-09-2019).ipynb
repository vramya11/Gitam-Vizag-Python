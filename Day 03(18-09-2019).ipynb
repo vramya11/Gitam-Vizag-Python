{
 "cells": [
  {
   "cell_type": "markdown",
   "metadata": {},
   "source": [
    "### programming in python with strings\n",
    "- strings\n",
    "- string slicing\n",
    "- fundamental programs and examples with strings\n"
   ]
  },
  {
   "cell_type": "code",
   "execution_count": 3,
   "metadata": {},
   "outputs": [
    {
     "name": "stdout",
     "output_type": "stream",
     "text": [
      "python\n",
      "programming\n",
      "A\n",
      "<class 'str'>\n",
      "<class 'str'>\n",
      "<class 'str'>\n"
     ]
    }
   ],
   "source": [
    "s1 = 'python'\n",
    "s2 = \"programming\"\n",
    "s3 = 'A'\n",
    "print(s1)\n",
    "print(s2)\n",
    "print(s3)\n",
    "print(type(s1))\n",
    "print(type(s2))\n",
    "print(type(s3))"
   ]
  },
  {
   "cell_type": "markdown",
   "metadata": {},
   "source": [
    "### string slicing"
   ]
  },
  {
   "cell_type": "code",
   "execution_count": 12,
   "metadata": {},
   "outputs": [
    {
     "name": "stdout",
     "output_type": "stream",
     "text": [
      "p\n",
      "y\n",
      "6\n",
      "n\n",
      "n\n",
      "o\n"
     ]
    }
   ],
   "source": [
    "s1 = \"python\"\n",
    "print(s1[0]) # accessing the first character in a string\n",
    "print(s1[1]) # accessing the second character in a string\n",
    "print(len(s1)) # len of the string\n",
    "print(s1[len(s1)-1]) # access the last character of the string\n",
    "print(s1[-1]) # another way to access the last character\n",
    "print(s1[-2])"
   ]
  },
  {
   "cell_type": "code",
   "execution_count": 18,
   "metadata": {},
   "outputs": [
    {
     "name": "stdout",
     "output_type": "stream",
     "text": [
      "py\n",
      "on\n",
      "hon\n",
      "tho\n",
      "ytho\n"
     ]
    }
   ],
   "source": [
    "print(s1[0:2]) # access the first two characters\n",
    "print(s1[-2:]) # access the last two characters\n",
    "print(s1[3:]) # access the character from 3 till last\n",
    "print(s1[2:5]) # access the character from 2 to 5\n",
    "print(s1[1:-1]) # all the characters except 1st and last character"
   ]
  },
  {
   "cell_type": "code",
   "execution_count": 20,
   "metadata": {},
   "outputs": [
    {
     "data": {
      "text/plain": [
       "'nohtyp'"
      ]
     },
     "execution_count": 20,
     "metadata": {},
     "output_type": "execute_result"
    }
   ],
   "source": [
    "s1[-1::-1] # reverse the string"
   ]
  },
  {
   "cell_type": "code",
   "execution_count": 21,
   "metadata": {},
   "outputs": [
    {
     "data": {
      "text/plain": [
       "'pto'"
      ]
     },
     "execution_count": 21,
     "metadata": {},
     "output_type": "execute_result"
    }
   ],
   "source": [
    "#access the characters in string alternate\n",
    "# python -- pto\n",
    "s1[::2]"
   ]
  },
  {
   "cell_type": "code",
   "execution_count": 23,
   "metadata": {
    "scrolled": true
   },
   "outputs": [
    {
     "data": {
      "text/plain": [
       "'nhy'"
      ]
     },
     "execution_count": 23,
     "metadata": {},
     "output_type": "execute_result"
    }
   ],
   "source": [
    "#access the alternate characters from reverse direction\n",
    "# python -- nhy\n",
    "s1[::-2]"
   ]
  },
  {
   "cell_type": "code",
   "execution_count": 24,
   "metadata": {},
   "outputs": [
    {
     "data": {
      "text/plain": [
       "'ph'"
      ]
     },
     "execution_count": 24,
     "metadata": {},
     "output_type": "execute_result"
    }
   ],
   "source": [
    " s1[::3]"
   ]
  },
  {
   "cell_type": "markdown",
   "metadata": {},
   "source": [
    "### functions with string operations"
   ]
  },
  {
   "cell_type": "code",
   "execution_count": 25,
   "metadata": {},
   "outputs": [
    {
     "data": {
      "text/plain": [
       "'nohtyp'"
      ]
     },
     "execution_count": 25,
     "metadata": {},
     "output_type": "execute_result"
    }
   ],
   "source": [
    "# reverse the string\n",
    "def reverseStr(s):\n",
    "    return s[-1::-1]\n",
    "reverseStr('python')"
   ]
  },
  {
   "cell_type": "code",
   "execution_count": 27,
   "metadata": {},
   "outputs": [
    {
     "name": "stdout",
     "output_type": "stream",
     "text": [
      "False\n",
      "True\n"
     ]
    }
   ],
   "source": [
    "# to check the given string is palindrome or not a palindrome\n",
    "def isPalindrome(s):\n",
    "    if s == s[-1::-1]:\n",
    "        return True\n",
    "    return False\n",
    "print(isPalindrome('python'))\n",
    "print(isPalindrome('ganag'))"
   ]
  },
  {
   "cell_type": "code",
   "execution_count": 37,
   "metadata": {},
   "outputs": [],
   "source": [
    "# function  to print the upper case characters\n",
    "# exampke : python -- P T\n",
    "\n",
    "# ASCII\n",
    "# A - Z : 65 -90\n",
    "# a-z : 97-122\n",
    "# 0-9 : 48-57\n",
    "# space : 32\n",
    "\n",
    "def printUpper(s):\n",
    "    for i in range (len(s)):\n",
    "        if ord(s[i]) >= 65 and ord(s[i]) <= 90:\n",
    "            print(s[i],end=' ')\n",
    "    return\n",
    "printUpper('python') # P T"
   ]
  },
  {
   "cell_type": "code",
   "execution_count": 29,
   "metadata": {},
   "outputs": [
    {
     "data": {
      "text/plain": [
       "97"
      ]
     },
     "execution_count": 29,
     "metadata": {},
     "output_type": "execute_result"
    }
   ],
   "source": [
    "ord('a') # ord() function gives the output which is equivalent to Ascii number"
   ]
  },
  {
   "cell_type": "code",
   "execution_count": 38,
   "metadata": {},
   "outputs": [
    {
     "name": "stdout",
     "output_type": "stream",
     "text": [
      "P T "
     ]
    }
   ],
   "source": [
    "def printupper(s):\n",
    "    for i in range (len(s)):\n",
    "        if ord(s[i]) >= 65 and ord(s[i]) <= 90:\n",
    "            print(s[i],end=' ')\n",
    "    return\n",
    "printupper('PyThon') # P T\n"
   ]
  },
  {
   "cell_type": "code",
   "execution_count": 44,
   "metadata": {},
   "outputs": [
    {
     "data": {
      "text/plain": [
       "'SameCount'"
      ]
     },
     "execution_count": 44,
     "metadata": {},
     "output_type": "execute_result"
    }
   ],
   "source": [
    "#function to return the output as \"SameCount\" or \"Programming\"\n",
    "#SameCount -- Lower and Upper chars have same count\n",
    "# Programming -- Count of Lower and Upper cases not same\n",
    "\n",
    "# Example #1 : Python -- 3 P T O\n",
    "#\n",
    "# Output : SameCount\n",
    "\n",
    "# Example #2 : PythoN -- 2 P N\n",
    "#\n",
    "# Output : Programming\n",
    "def findCharCount(s):\n",
    "    cntUpper = 0\n",
    "    cntLower = 0\n",
    "    for i in range(len(s)):\n",
    "        if ord(s[i]) >= 65 and ord(s[i]) <= 90:\n",
    "            cntUpper += 1 # cntUpper = cntUpper + 1\n",
    "        elif ord(s[i]) >= 97 and ord(s[i]) <= 122:\n",
    "            cntLower += 1 #cntLower = cntLower + 1\n",
    "    if  cntLower == cntUpper:\n",
    "            return \"SameCount\"\n",
    "    return \"Programming\"\n",
    "findCharCount('PyThoN')    "
   ]
  },
  {
   "cell_type": "code",
   "execution_count": 45,
   "metadata": {},
   "outputs": [
    {
     "name": "stdout",
     "output_type": "stream",
     "text": [
      "1 8 8 9 "
     ]
    }
   ],
   "source": [
    "# Function to extract  the digits from the string\n",
    "# Example #1:\n",
    "# Input : Appli18cation89\n",
    "# Output : 1 8 8 9\n",
    "\n",
    "def extractDigits(s):\n",
    "    for i in range(len(s)):\n",
    "        if ord(s[i]) >= 48 and ord(s[i]) <=57:\n",
    "            print(s[i],end=' ')\n",
    "    return\n",
    "extractDigits('Appli18cation89')"
   ]
  },
  {
   "cell_type": "code",
   "execution_count": 48,
   "metadata": {},
   "outputs": [
    {
     "data": {
      "text/plain": [
       "26"
      ]
     },
     "execution_count": 48,
     "metadata": {},
     "output_type": "execute_result"
    }
   ],
   "source": [
    "# Function to add the digits of the string\n",
    "# Example #1:\n",
    "# Input : Appli18cation89\n",
    "# Output : 26 (1+8+8+9)\n",
    "\n",
    "def sumOfDigits(s):\n",
    "    sum = 0\n",
    "    for i in range(len(s)):\n",
    "        if ord(s[i]) >= 48  and ord(s[i]) <= 57:\n",
    "            sum = sum + (ord(s[i])-48)\n",
    "    return sum\n",
    "sumOfDigits('Appli18cation89')"
   ]
  },
  {
   "cell_type": "code",
   "execution_count": 49,
   "metadata": {},
   "outputs": [
    {
     "name": "stdout",
     "output_type": "stream",
     "text": [
      "M A D E "
     ]
    }
   ],
   "source": [
    "# Function to 2nd word in Upper case\n",
    "# Example #1:\n",
    "# Input : Python Made Easy\n",
    "# Output : MADE\n",
    "\n",
    "\n",
    "# Example #2:\n",
    "# Input : Learn Python Strings\n",
    "# Output : PYTHON\n",
    "\n",
    "\n",
    "\n",
    "def wordUpperCase(s):\n",
    "    cntSpace = 0\n",
    "    for i in range(len(s)):\n",
    "        if ord(s[i]) == 32 :\n",
    "            cntSpace += 1\n",
    "        if cntSpace == 1:\n",
    "            if ord(s[i]) >= 65 and ord(s[i]) <= 90:\n",
    "                print(s[i],end=' ')\n",
    "            elif ord(s[i]) >=97 and ord(s[i])  <=122:\n",
    "                print(chr(ord(s[i])-32),end=' ')\n",
    "        if cntSpace == 2:\n",
    "            break\n",
    "    return\n",
    "wordUpperCase('Python Made Easy')\n"
   ]
  },
  {
   "cell_type": "markdown",
   "metadata": {},
   "source": [
    "### List\n",
    "- One of the data structure in python\n",
    "- data structure means to store, sort and search options\n",
    "- It's one common data structur in python, the items of list separetely enclosed in square brackets[]\n",
    "    - Example\n",
    "         - list1 = [1,2,3,4,5]\n",
    "         - list2 =[\"gitam\"\n",
    ",1,2,1.89,\"vizag\" ]\n"
   ]
  },
  {
   "cell_type": "code",
   "execution_count": 51,
   "metadata": {},
   "outputs": [
    {
     "name": "stdout",
     "output_type": "stream",
     "text": [
      "[1, 8, 16, 9, 2]\n",
      "1\n",
      "8\n",
      "2\n",
      "9\n",
      "[16, 9, 2]\n",
      "[16, 9]\n"
     ]
    }
   ],
   "source": [
    "li = [1,8,16,9,2]\n",
    "print(li) # will print ALL the list items\n",
    "print(li[0]) # access the first item of the list\n",
    "print(li[1]) # access the second item of the list\n",
    "print(li[-1]) # access the last item of the list\n",
    "print(li[-2]) # access the last second item of the list\n",
    "print(li[2:])\n",
    "print(li[2:4])"
   ]
  },
  {
   "cell_type": "code",
   "execution_count": 52,
   "metadata": {},
   "outputs": [
    {
     "name": "stdout",
     "output_type": "stream",
     "text": [
      "['Gitam', 1582, 2018, 2019, 'Vizag']\n",
      "['Gitam', 1234, 2018, 2019, 'Vizag']\n"
     ]
    }
   ],
   "source": [
    "li = [\"Gitam\",1582,2018,2019,\"Vizag\"]\n",
    "print(li)\n",
    "# Update the list with value using index\n",
    "li[1] = 1234\n",
    "print(li)"
   ]
  },
  {
   "cell_type": "code",
   "execution_count": 53,
   "metadata": {},
   "outputs": [
    {
     "name": "stdout",
     "output_type": "stream",
     "text": [
      "['Gitam', 1234, 2018, 'Vizag']\n"
     ]
    }
   ],
   "source": [
    "#Delete the list item from the list\n",
    "del li[3]\n",
    "print(li)"
   ]
  },
  {
   "cell_type": "code",
   "execution_count": 55,
   "metadata": {},
   "outputs": [
    {
     "name": "stdout",
     "output_type": "stream",
     "text": [
      "5\n",
      "[1, 2, 3, 4, 5, 1, 2, 3, 4, 5]\n",
      "True\n",
      "False\n",
      "1 2 3 4 5 \n",
      "1 2 3 4 5 "
     ]
    }
   ],
   "source": [
    "# Basic list operations\n",
    "li = [1,2,3,4,5]\n",
    "# len of the list\n",
    "print(len(li))\n",
    "# list Repitation\n",
    "print(li * 2)\n",
    "# to know certain item is present in the list or not\n",
    "print(4 in li)\n",
    "print(10 in li)\n",
    "# Access the list item from the Iterations\n",
    "# 1 way to define\n",
    "for i in range(len(li)):\n",
    "    print(li[i],end=' ')\n",
    "print()\n",
    "# 2 way to print the list items\n",
    "for i in li:\n",
    "    print(i,end=' ')"
   ]
  },
  {
   "cell_type": "code",
   "execution_count": 57,
   "metadata": {},
   "outputs": [
    {
     "name": "stdout",
     "output_type": "stream",
     "text": [
      "25\n",
      "1\n",
      "56\n",
      "11\n"
     ]
    }
   ],
   "source": [
    "#Basic list functions\n",
    "li = [1,9,16,25,5]\n",
    "print(max(li)) #max number of the list\n",
    "print(min(li)) # min number of the list\n",
    "print(sum(li))# sum of all list items\n",
    "print(sum(li) //len(li)) #avg of list items\n"
   ]
  },
  {
   "cell_type": "code",
   "execution_count": 7,
   "metadata": {},
   "outputs": [
    {
     "data": {
      "text/plain": [
       "2"
      ]
     },
     "execution_count": 7,
     "metadata": {},
     "output_type": "execute_result"
    }
   ],
   "source": [
    "# methods of list\n",
    "li = [1,9,16,25,5]\n",
    "\n",
    "li.append(29) # add the new  item at the end of list\n",
    "li.insert(2,56) # add the new itwm at the specific index\n",
    "li.append(9)\n",
    "li.count(9) # returns the value how many objects repeated\n",
    "li.index(56) # return the value at that index\n"
   ]
  },
  {
   "cell_type": "code",
   "execution_count": 24,
   "metadata": {
    "scrolled": true
   },
   "outputs": [
    {
     "data": {
      "text/plain": [
       "[1, 9, 16]"
      ]
     },
     "execution_count": 24,
     "metadata": {},
     "output_type": "execute_result"
    }
   ],
   "source": [
    "# method of the list objects\n",
    "li = [1,9,16,25,5]\n",
    "li.sort() # Sorts the list in asending order\n",
    "li.pop() # last index value\n",
    "li.pop(1) # removes the element at the given index value\n",
    "li"
   ]
  },
  {
   "cell_type": "code",
   "execution_count": 21,
   "metadata": {},
   "outputs": [
    {
     "name": "stdout",
     "output_type": "stream",
     "text": [
      "45\n",
      "22\n"
     ]
    }
   ],
   "source": [
    "# function to return the large number from the list\n",
    "def largeNumber(li):\n",
    "    li.sort()\n",
    "    return li[-1]\n",
    "def genericLarge(li,n):\n",
    "    li.sort()\n",
    "    return li[-n]\n",
    "li = [19,1,25,6,9,45,22]\n",
    "print(largeNumber(li))\n",
    "print(genericLarge(li,3))\n"
   ]
  },
  {
   "cell_type": "code",
   "execution_count": 27,
   "metadata": {},
   "outputs": [
    {
     "name": "stdout",
     "output_type": "stream",
     "text": [
      "1\n",
      "19\n"
     ]
    }
   ],
   "source": [
    "# function to find least and generic least number from the list\n",
    "def leastNumber(li):\n",
    "    li.sort()\n",
    "    return li[0]\n",
    "def genericLeastNumber(li,n):\n",
    "    li.sort()\n",
    "    return li[n-1]\n",
    "li = [19,1,25,6,9,45,22]\n",
    "print(leastNumber(li))\n",
    "print(genericLeastNumber(li,4))"
   ]
  },
  {
   "cell_type": "markdown",
   "metadata": {},
   "source": [
    "### file handling in python\n",
    "- File -Document which contains some information and resides on permanent\n",
    "- Different types of File -- .txt,.pdf,.doc,.ppf and etc...\n",
    "- Input -- Keyboard\n",
    "- Output - File system\n"
   ]
  },
  {
   "cell_type": "code",
   "execution_count": 31,
   "metadata": {},
   "outputs": [
    {
     "name": "stdout",
     "output_type": "stream",
     "text": [
      "file is successfully created and data has inserted\n"
     ]
    }
   ],
   "source": [
    "# Function to create file and write some data to the file\n",
    "# Mode -- w(it creates the file and write some data)\n",
    "#         If the file already exists with same name then it will rewrite the data\n",
    "def createFile(filename):\n",
    "    f = open(filename,'w')\n",
    "    for i in range(10):\n",
    "        f.write('this is %d line \\n' % i)\n",
    "    print('file is successfully created and data has inserted')    \n",
    "    return\n",
    "createFile('data.txt')"
   ]
  },
  {
   "cell_type": "code",
   "execution_count": 32,
   "metadata": {},
   "outputs": [
    {
     "data": {
      "text/plain": [
       "'C:\\\\Users\\\\cse319\\\\Desktop\\\\problem solving and programming\\\\Day 01(16-09-2019)'"
      ]
     },
     "execution_count": 32,
     "metadata": {},
     "output_type": "execute_result"
    }
   ],
   "source": [
    "pwd\n"
   ]
  },
  {
   "cell_type": "code",
   "execution_count": 53,
   "metadata": {},
   "outputs": [
    {
     "name": "stdout",
     "output_type": "stream",
     "text": [
      "program completed successfuly\n"
     ]
    }
   ],
   "source": [
    "# mode -- a(if the file is not available it creates the file)\n",
    "#     --  if the file is already present with same name\n",
    "#   -- append the data at end of previous line\n",
    "def appendMode(filename):\n",
    "    f = open(filename,'a')\n",
    "    f.write('gitam vizag\\n')\n",
    "    f.write('python programming\\n')\n",
    "    print('program completed successfuly')\n",
    "    return\n",
    "appendMode('data.txt')"
   ]
  },
  {
   "cell_type": "code",
   "execution_count": 38,
   "metadata": {},
   "outputs": [
    {
     "name": "stdout",
     "output_type": "stream",
     "text": [
      "gitam vizag python traininggitam vizag\n",
      "python programming\n",
      "gitam vizag\n",
      "python programming\n",
      "\n"
     ]
    }
   ],
   "source": [
    "# function to read the file\n",
    "def readFileData(filename):\n",
    "    f = open(filename,'r')\n",
    "    if f.mode == 'r':\n",
    "        a = f.read()\n",
    "        print(a)\n",
    "    f.close()\n",
    "readFileData('data.txt')    "
   ]
  },
  {
   "cell_type": "code",
   "execution_count": 39,
   "metadata": {},
   "outputs": [],
   "source": [
    "# An"
   ]
  },
  {
   "cell_type": "code",
   "execution_count": 41,
   "metadata": {},
   "outputs": [
    {
     "data": {
      "text/plain": [
       "11"
      ]
     },
     "execution_count": 41,
     "metadata": {},
     "output_type": "execute_result"
    }
   ],
   "source": [
    "#word count -- Input file\n",
    "def wordCount(filename):\n",
    "    with open(filename,'r') as f:\n",
    "        if f.mode == 'r':\n",
    "            a = f.read()\n",
    "            li = a.split()\n",
    "    return len(li)\n",
    "wordCount('data.txt')    \n",
    "        "
   ]
  },
  {
   "cell_type": "code",
   "execution_count": 42,
   "metadata": {},
   "outputs": [],
   "source": [
    "# specific word count from the file\n",
    "# Example #1:\n",
    "# Input -- This\n",
    "# Output -- 10\n",
    "\n",
    "\n",
    "# Example #2:\n",
    "# Input -- Gitam\n",
    "# Output -- 1\n"
   ]
  },
  {
   "cell_type": "code",
   "execution_count": 43,
   "metadata": {},
   "outputs": [
    {
     "name": "stdout",
     "output_type": "stream",
     "text": [
      "['pro', 'gramm', 'ing', 'in', 'py', 'th', 'on']\n"
     ]
    }
   ],
   "source": [
    "#analysis on the file --b word count, char count, digit count\n",
    "s1='pro gramm ing in py th on'\n",
    "print(s1.split())"
   ]
  },
  {
   "cell_type": "code",
   "execution_count": 48,
   "metadata": {},
   "outputs": [
    {
     "data": {
      "text/plain": [
       "0"
      ]
     },
     "execution_count": 48,
     "metadata": {},
     "output_type": "execute_result"
    }
   ],
   "source": [
    "def specificWordCnt(filename,word):\n",
    "    with open(filename,'r') as f:\n",
    "        if f.mode == 'r':\n",
    "            a = f.read()\n",
    "            li = a.split()\n",
    "    return li.count(word)\n",
    "specificWordCnt('data.txt','This')"
   ]
  },
  {
   "cell_type": "code",
   "execution_count": 51,
   "metadata": {},
   "outputs": [
    {
     "data": {
      "text/plain": [
       "89"
      ]
     },
     "execution_count": 51,
     "metadata": {},
     "output_type": "execute_result"
    }
   ],
   "source": [
    "# function to find the character count from the input file\n",
    "def charCount(filename):\n",
    "    with open(filename,'r') as f:\n",
    "        if f.mode == 'r':\n",
    "            a = f.read()\n",
    "            li = list(a)\n",
    "    return len(li)       \n",
    "charCount('data.txt')"
   ]
  },
  {
   "cell_type": "code",
   "execution_count": 57,
   "metadata": {},
   "outputs": [
    {
     "name": "stdout",
     "output_type": "stream",
     "text": [
      "['P', 'y', 't', 'h', 'o', 'n', 'P', 'r', 'o', 'g', 'r', 'a', 'm', 'm', 'i', 'n', 'g']\n"
     ]
    }
   ],
   "source": [
    "s = \"PythonProgramming\"\n",
    "li = list(s)\n",
    "print(li)"
   ]
  },
  {
   "cell_type": "code",
   "execution_count": 60,
   "metadata": {},
   "outputs": [
    {
     "data": {
      "text/plain": [
       "9"
      ]
     },
     "execution_count": 60,
     "metadata": {},
     "output_type": "execute_result"
    }
   ],
   "source": [
    "# find no of lines or rows in the given input stream\n",
    "def findLineCount(filename):\n",
    "    with open(filename,'r') as f:\n",
    "        if f.mode == 'r':\n",
    "            a = f.read()\n",
    "            li = a.split('\\n')\n",
    "    return len(li)\n",
    "findLineCount('data.txt')"
   ]
  },
  {
   "cell_type": "code",
   "execution_count": 63,
   "metadata": {},
   "outputs": [
    {
     "data": {
      "text/plain": [
       "'Upper Case : 0 Lower Case : 132 Digit : 0'"
      ]
     },
     "execution_count": 63,
     "metadata": {},
     "output_type": "execute_result"
    }
   ],
   "source": [
    "# Function to find the upper and lower case characters\n",
    "# from the input stream\n",
    "def caseCount(filename):\n",
    "    cntUpper = 0\n",
    "    cntLower = 0\n",
    "    cntDigit = 0\n",
    "    with open(filename,'r') as f:\n",
    "        if f.mode == 'r':\n",
    "            a = f.read()\n",
    "            li = list(a)\n",
    "    for i in range(len(li)):\n",
    "        if ord(li[i]) >=65 and ord(li[i]) <=90:\n",
    "            cntUpper += 1\n",
    "        elif ord(li[i])  >=97 and ord(li[i]) <= 122:\n",
    "            cntLower += 1\n",
    "        elif ord(li[i]) >=48 and ord(li[i]) <= 57:\n",
    "            cntDigit +=1\n",
    "    output = 'Upper Case : {0} Lower Case : {1} Digit : {2}' .format(cntUpper,cntLower,cntDigit)      \n",
    "          \n",
    "    return output\n",
    "caseCount('data.txt')"
   ]
  },
  {
   "cell_type": "code",
   "execution_count": null,
   "metadata": {},
   "outputs": [],
   "source": []
  }
 ],
 "metadata": {
  "kernelspec": {
   "display_name": "Python 3",
   "language": "python",
   "name": "python3"
  },
  "language_info": {
   "codemirror_mode": {
    "name": "ipython",
    "version": 3
   },
   "file_extension": ".py",
   "mimetype": "text/x-python",
   "name": "python",
   "nbconvert_exporter": "python",
   "pygments_lexer": "ipython3",
   "version": "3.7.3"
  }
 },
 "nbformat": 4,
 "nbformat_minor": 2
}
